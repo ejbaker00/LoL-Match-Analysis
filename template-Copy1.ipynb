{
 "cells": [
  {
   "cell_type": "markdown",
   "metadata": {},
   "source": [
    "# Predicting League of Legends Match Length After 10 Minutes\n",
    "\n",
    "**Name**: Elliot Baker\n",
    "\n",
    "**Website Link**: https://github.com/ejbaker00/LoL-Match-Analysis"
   ]
  },
  {
   "cell_type": "code",
   "execution_count": 1,
   "metadata": {
    "ExecuteTime": {
     "end_time": "2019-10-31T23:36:28.652554Z",
     "start_time": "2019-10-31T23:36:27.180520Z"
    }
   },
   "outputs": [],
   "source": [
    "import pandas as pd\n",
    "import numpy as np\n",
    "\n",
    "import plotly.express as px\n",
    "pd.options.plotting.backend = 'plotly'\n",
    "\n",
    "# from lec_utils import * # Feel free to uncomment and use this. It'll make your plotly graphs look like ours in lecture!"
   ]
  },
  {
   "cell_type": "markdown",
   "metadata": {},
   "source": [
    "## Introduction"
   ]
  },
  {
   "cell_type": "markdown",
   "metadata": {},
   "source": [
    "#### The Data\n",
    "The dataset used in this analysis contains competitive League of Legends (LoL) match data collected from 2014 to 2024. It provides detailed information about matches, including game statistics, team compositions, and outcomes. There are 994,200 rows, with each game corresponding to 12 rows (one for each of the 10 players in a game, and rows for each of the teams), equaling 82,850 games represented. This analysis focuses on the question:\n",
    "\n",
    "How can statistics at the 10-minute mark predict the total duration of a game? \n",
    "\n",
    "#### Why This Matters\n",
    "Game duration is a critical factor in League of Legends, as it reflects the pacing and strategic flow of a match. Predicting game length based on early-game statistics offers valuable insights into how initial performance translates into long-term outcomes. This is particularly relevant for players, coaches, and analysts aiming to refine early-game strategies and optimize decision-making.\n",
    "\n",
    "#### Relevant Columns\n",
    "To address this research question, the following columns from the dataset are particularly relevant:\n",
    "- gamelength: The lengh of a game, measured in seconds.\n",
    "- position: The position the player plays - top, jng (jungle), mid, bot (bottom), or sup (support). This can be used in conjunction with the other statistics to determine whether there is a difference in game time depending on which position has an early lead or early disadvantage. There is also a 'team' position where the statistics for each player on a team are consolidated.\n",
    "- golddiffat10: The gold difference between each player and between the two teams at the 10-minute mark. This metric captures early game performance and the ability to establish a lead.\n",
    "- xpdiffat10: The experience difference between each player and between the two teams at the 10-minute mark. This indicates how well teams are farming and gaining levels.\n",
    "- killsat10: The total kills achieved by each player at the 10-minute mark. This reflects early aggression and skirmish success.\n",
    "- csdiffat10: The creep score difference at the 10-minute mark. This measures efficiency in farming resources during the early game.\n",
    "\n"
   ]
  },
  {
   "cell_type": "markdown",
   "metadata": {},
   "source": [
    "## Data Cleaning and Exploratory Data Analysis"
   ]
  },
  {
   "cell_type": "markdown",
   "metadata": {},
   "source": [
    "#### Data Cleaning \n",
    "Since our analysis focuses on the 10-minute mark and match duration, only rows with valid data for golddiffat10, xpdiffat10, killsat10, assistsat10, deathsat10, csdiffat10, and gamelength were retained. Rows with missing values in these critical columns were dropped, reducing noise and ensuring robust predictions. Rows missing the gameid were also dropped to ensure that data was accurately matched to the relevant game, since each game is represented by 12 rows.\n",
    "\n",
    "From the 161 columns, only those directly relevant to the research aim were retained. These included gameid, golddiffat10, xpdiffat10, killsat10, assistsat10, deathsat10, csdiffat10, gamelength, side, and position. Excluding unrelated metrics reduced memory usage and streamlined the analysis process.\n",
    "\n",
    "The gamelength column was divided by 60 to obtain the game length in minutes, as it's a more readily understandable metric.\n",
    "\n",
    "As the analysis is focused only on match time and not victor, I created columns with the magnitudes of the team gold, CS, XP, and kill counts.\n",
    "\n",
    "The data cleaning steps ensured that the dataset was both reliable and focused on the research question. By removing irrelevant and incomplete data, we minimized noise and improved the quality of the insights derived. Preserving the magnitude of numerical metrics allowed us to maintain the interpretability of key features and their influence on game duration. Filtering ensured computational efficiency while maintaining the focus on the research aim.\n",
    "\n",
    "These steps aligned with the data-generating process by addressing typical inconsistencies and gaps in esports match data, such as missing records. The resulting dataset offers a robust foundation for predictive modeling and analysis, ensuring that findings are both accurate and actionable.\n",
    "\n",
    "#### Exploratory Data Analysis\n"
   ]
  },
  {
   "cell_type": "markdown",
   "metadata": {},
   "source": [
    "## Framing a Prediction Problem \n",
    "This problem is a regression problem, attempting to predict gamelength using the statistics available at the 10-minute mark of a match. I chose gamelength to be the response variable as it is a response to the activities of the players - if they generate a significant lead in the first 10 minutes, the game should end sooner. More balanced games will typically take longer to play out and have a closer early game.\n"
   ]
  },
  {
   "cell_type": "markdown",
   "metadata": {},
   "source": [
    "## Baseline Model\n",
    "The model is a linear regression pipeline designed to predict game length (gamelength) based on two features: golddiffat10_team_abs (magnitude of the team’s gold difference at 10 minutes) and killsat10_team_abs (magnitude of the team’s kill difference at 10 minutes).\n",
    "Both features are quantitative variables, and were already numeric, so no encoding was necessary. The features were scaled using StandardScaler to standardize the range, ensuring compatibility with the linear regression model.\n",
    "The model's performance was evaluated using MSE, which measures the average squared difference between predicted and actual game lengths. The specific value was printed, reflecting the prediction accuracy. The model coefficients provided insight into the relative importance of each feature in predicting game length."
   ]
  },
  {
   "cell_type": "markdown",
   "metadata": {},
   "source": [
    "## Final Model\n",
    "This model builds off of the baseline model, adding a feature 'golddiffat10_bot', representing the gold difference between players playing the 'bot' role. Bot lane performance is critical in League of Legends, as this lane often dictates mid-game control through dragon objectives and attack damage scaling. Including this feature provides a direct measure of how bot lane advantages or disadvantages influence game length, which aligns with the game's strategic dynamics. This model also uses an adjusted value for team gold difference at 10 minutes, using the square root. The transformation reduces the impact of extreme values while preserving the relative differences, which is beneficial when gold differences have a non-linear relationship with game length.\n",
    "For the modeling algorithm, a Random Forest Regressor was chosen for its ability to capture non-linear relationships and feature interactions without requiring extensive feature engineering. The pipeline includes StandardScaler, QuantileTransformer, and Random Forest Regressor.  A grid search was conducted using 5-fold cross-validation to identify the best hyperparameters. The grid included n_estimators (number of trees in forest), max_depth, and min_samples_split. The best hyper-parameters were 100 for n_estimators, 20 for max_depth, and 5 for min_samples_split.\n",
    "The final model's complexity allows for a better fit for the data."
   ]
  },
 ],
 "metadata": {
  "kernelspec": {
   "display_name": "Python 3 (ipykernel)",
   "language": "python",
   "name": "python3"
  },
  "language_info": {
   "codemirror_mode": {
    "name": "ipython",
    "version": 3
   },
   "file_extension": ".py",
   "mimetype": "text/x-python",
   "name": "python",
   "nbconvert_exporter": "python",
   "pygments_lexer": "ipython3",
   "version": "3.10.15"
  }
 },
 "nbformat": 4,
 "nbformat_minor": 4
}
